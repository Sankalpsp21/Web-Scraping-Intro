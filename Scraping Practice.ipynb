{
 "cells": [
  {
   "cell_type": "code",
   "execution_count": 34,
   "id": "6ceedfcc",
   "metadata": {
    "scrolled": true
   },
   "outputs": [],
   "source": [
    "import pandas as pd\n",
    "from bs4 import BeautifulSoup\n",
    "import requests\n",
    "from matplotlib import pyplot as plt"
   ]
  },
  {
   "cell_type": "code",
   "execution_count": 35,
   "id": "f4218e21",
   "metadata": {
    "scrolled": true
   },
   "outputs": [
    {
     "data": {
      "text/html": [
       "<div>\n",
       "<style scoped>\n",
       "    .dataframe tbody tr th:only-of-type {\n",
       "        vertical-align: middle;\n",
       "    }\n",
       "\n",
       "    .dataframe tbody tr th {\n",
       "        vertical-align: top;\n",
       "    }\n",
       "\n",
       "    .dataframe thead th {\n",
       "        text-align: right;\n",
       "    }\n",
       "</style>\n",
       "<table border=\"1\" class=\"dataframe\">\n",
       "  <thead>\n",
       "    <tr style=\"text-align: right;\">\n",
       "      <th></th>\n",
       "      <th>Country Name</th>\n",
       "      <th>Capital</th>\n",
       "      <th>Population</th>\n",
       "      <th>Country Area</th>\n",
       "    </tr>\n",
       "  </thead>\n",
       "  <tbody>\n",
       "    <tr>\n",
       "      <th>0</th>\n",
       "      <td>Andorra</td>\n",
       "      <td>Andorra la Vella</td>\n",
       "      <td>84000</td>\n",
       "      <td>468.0</td>\n",
       "    </tr>\n",
       "    <tr>\n",
       "      <th>1</th>\n",
       "      <td>United Arab Emirates</td>\n",
       "      <td>Abu Dhabi</td>\n",
       "      <td>4975593</td>\n",
       "      <td>82880.0</td>\n",
       "    </tr>\n",
       "    <tr>\n",
       "      <th>2</th>\n",
       "      <td>Afghanistan</td>\n",
       "      <td>Kabul</td>\n",
       "      <td>29121286</td>\n",
       "      <td>647500.0</td>\n",
       "    </tr>\n",
       "    <tr>\n",
       "      <th>3</th>\n",
       "      <td>Antigua and Barbuda</td>\n",
       "      <td>St. John's</td>\n",
       "      <td>86754</td>\n",
       "      <td>443.0</td>\n",
       "    </tr>\n",
       "    <tr>\n",
       "      <th>4</th>\n",
       "      <td>Anguilla</td>\n",
       "      <td>The Valley</td>\n",
       "      <td>13254</td>\n",
       "      <td>102.0</td>\n",
       "    </tr>\n",
       "    <tr>\n",
       "      <th>...</th>\n",
       "      <td>...</td>\n",
       "      <td>...</td>\n",
       "      <td>...</td>\n",
       "      <td>...</td>\n",
       "    </tr>\n",
       "    <tr>\n",
       "      <th>245</th>\n",
       "      <td>Yemen</td>\n",
       "      <td>Sanaa</td>\n",
       "      <td>23495361</td>\n",
       "      <td>527970.0</td>\n",
       "    </tr>\n",
       "    <tr>\n",
       "      <th>246</th>\n",
       "      <td>Mayotte</td>\n",
       "      <td>Mamoudzou</td>\n",
       "      <td>159042</td>\n",
       "      <td>374.0</td>\n",
       "    </tr>\n",
       "    <tr>\n",
       "      <th>247</th>\n",
       "      <td>South Africa</td>\n",
       "      <td>Pretoria</td>\n",
       "      <td>49000000</td>\n",
       "      <td>1219912.0</td>\n",
       "    </tr>\n",
       "    <tr>\n",
       "      <th>248</th>\n",
       "      <td>Zambia</td>\n",
       "      <td>Lusaka</td>\n",
       "      <td>13460305</td>\n",
       "      <td>752614.0</td>\n",
       "    </tr>\n",
       "    <tr>\n",
       "      <th>249</th>\n",
       "      <td>Zimbabwe</td>\n",
       "      <td>Harare</td>\n",
       "      <td>11651858</td>\n",
       "      <td>390580.0</td>\n",
       "    </tr>\n",
       "  </tbody>\n",
       "</table>\n",
       "<p>250 rows × 4 columns</p>\n",
       "</div>"
      ],
      "text/plain": [
       "             Country Name           Capital Population Country Area\n",
       "0                 Andorra  Andorra la Vella      84000        468.0\n",
       "1    United Arab Emirates         Abu Dhabi    4975593      82880.0\n",
       "2             Afghanistan             Kabul   29121286     647500.0\n",
       "3     Antigua and Barbuda        St. John's      86754        443.0\n",
       "4                Anguilla        The Valley      13254        102.0\n",
       "..                    ...               ...        ...          ...\n",
       "245                 Yemen             Sanaa   23495361     527970.0\n",
       "246               Mayotte         Mamoudzou     159042        374.0\n",
       "247          South Africa          Pretoria   49000000    1219912.0\n",
       "248                Zambia            Lusaka   13460305     752614.0\n",
       "249              Zimbabwe            Harare   11651858     390580.0\n",
       "\n",
       "[250 rows x 4 columns]"
      ]
     },
     "execution_count": 35,
     "metadata": {},
     "output_type": "execute_result"
    }
   ],
   "source": [
    "webpage = requests.get('https://www.scrapethissite.com/pages/simple/')\n",
    "soup = BeautifulSoup(webpage.content, 'html.parser')\n",
    "\n",
    "country_names = soup.find_all(attrs = {'class':'country-name'})\n",
    "countries = []\n",
    "for country in country_names:\n",
    "    countries.append(country.get_text())\n",
    "\n",
    "for i in range(len(countries)):\n",
    "    countries[i] = countries[i].strip()\n",
    "        \n",
    "country_capitals = soup.find_all(attrs = {'class':'country-capital'})\n",
    "capitals = []\n",
    "for country in country_capitals:\n",
    "    capitals.append(country.get_text())\n",
    "    \n",
    "country_pop = soup.find_all(attrs = {'class':'country-population'})\n",
    "populations = []\n",
    "for country in country_pop:\n",
    "    populations.append(str(country.get_text()))\n",
    "    \n",
    "country_area = soup.find_all(attrs = {'class':'country-area'})\n",
    "areas = []\n",
    "for country in country_area:\n",
    "    areas.append(str(country.get_text()))\n",
    "    \n",
    "    \n",
    "df = pd.DataFrame({'Country Name' : countries, 'Capital' : capitals, 'Population' : populations, 'Country Area' : areas })\n",
    "\n",
    "\n",
    "df.to_csv(\"scrape_test.csv\")\n",
    "\n",
    "df"
   ]
  },
  {
   "cell_type": "code",
   "execution_count": 36,
   "id": "aa4cb4fe",
   "metadata": {
    "scrolled": true
   },
   "outputs": [
    {
     "data": {
      "image/png": "[encoded data removed]",
      "text/plain": [
       "<Figure size 432x288 with 1 Axes>"
      ]
     },
     "metadata": {
      "needs_background": "light"
     },
     "output_type": "display_data"
    }
   ],
   "source": [
    "plt.scatter(x = df['Country Area'], y = df.Population)\n",
    "plt.xlabel('Country Area (sq km)')\n",
    "plt.ylabel('Country Population')\n",
    "\n",
    "plt.show()"
   ]
  },
  {
   "cell_type": "code",
   "execution_count": null,
   "id": "ada16d18",
   "metadata": {
    "scrolled": true
   },
   "outputs": [],
   "source": []
  }
 ],
 "metadata": {
  "kernelspec": {
   "display_name": "Python 3",
   "language": "python",
   "name": "python3"
  },
  "language_info": {
   "codemirror_mode": {
    "name": "ipython",
    "version": 3
   },
   "file_extension": ".py",
   "mimetype": "text/x-python",
   "name": "python",
   "nbconvert_exporter": "python",
   "pygments_lexer": "ipython3",
   "version": "3.8.8"
  }
 },
 "nbformat": 4,
 "nbformat_minor": 5
}
